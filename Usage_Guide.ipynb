{
 "cells": [
  {
   "cell_type": "code",
   "execution_count": 4,
   "id": "6d00c10f",
   "metadata": {},
   "outputs": [],
   "source": [
    "import numpy as np\n",
    "from Randomization_Function import Pathway_Randomization\n",
    "\n",
    "\n",
    "#Toy Matrix\n",
    "original_matrix = np.array([\n",
    "    [1, 0, 1, 1, 1, 0],\n",
    "    [0, 1, 0, 0, 0, 0],\n",
    "    [1, 0, 0, 1, 0, 0],\n",
    "    [0, 1, 0, 1, 0, 0],\n",
    "    [0, 0, 1, 1, 1, 1],\n",
    "    [0, 0, 0, 1, 0, 1]\n",
    "])\n",
    "\n",
    "# Example Matrix (256x256)\n",
    "# file_path = \"Data/example_matrix.npy\"\n",
    "# original_matrix = np.load(file_path)"
   ]
  },
  {
   "cell_type": "code",
   "execution_count": 5,
   "id": "e76c2b1e",
   "metadata": {},
   "outputs": [],
   "source": [
    "# Shuffling with various modes\n",
    "\n",
    "# mode = 'column' to keep the number of ones in each column constant\n",
    "reshuffled_column = Pathway_Randomization(original_matrix, mode = 'column', seed = 42)\n",
    "\n",
    "# mode = 'row' to keep the number of ones in each row constant\n",
    "reshuffled_row = Pathway_Randomization(original_matrix, mode = 'row', seed = 42)\n",
    "\n",
    "# mode = 'global' to keep the total number of ones constant\n",
    "reshuffled_global = Pathway_Randomization(original_matrix, mode = 'global', seed = 42)\n",
    "\n",
    "# mode = 'sparsity' and sparsity = threshold to set the total number of ones based on the desired sparsity\n",
    "reshuffled_sparsity = Pathway_Randomization(original_matrix, mode = 'sparsity', sparsity = 0.7, seed = 42)\n"
   ]
  },
  {
   "cell_type": "code",
   "execution_count": 6,
   "id": "afa75c12",
   "metadata": {},
   "outputs": [
    {
     "name": "stdout",
     "output_type": "stream",
     "text": [
      "Original:\n",
      "[[1 0 1 1 1 0]\n",
      " [0 1 0 0 0 0]\n",
      " [1 0 0 1 0 0]\n",
      " [0 1 0 1 0 0]\n",
      " [0 0 1 1 1 1]\n",
      " [0 0 0 1 0 1]]\n",
      "Number of ones per row: [4 1 2 2 4 2]\n",
      "Number of ones per column: [2 2 2 5 2 2]\n",
      "Global number of ones: 15\n",
      "\n",
      "Column-wise constant:\n",
      "[[1 0 0 1 0 1]\n",
      " [0 1 0 1 1 0]\n",
      " [1 1 0 1 0 0]\n",
      " [0 0 1 0 0 1]\n",
      " [0 0 1 1 0 0]\n",
      " [0 0 0 1 1 0]]\n",
      "Number of ones per row: [3 3 3 2 2 2]\n",
      "Number of ones per column: [2 2 2 5 2 2]\n",
      "Global number of ones: 15\n",
      "\n",
      "Row-wise constant:\n",
      "[[1 0 1 1 0 1]\n",
      " [0 0 0 1 0 0]\n",
      " [0 0 0 1 1 0]\n",
      " [0 1 0 0 0 1]\n",
      " [1 1 1 0 1 0]\n",
      " [1 0 0 0 1 0]]\n",
      "Number of ones per row: [4 1 2 2 4 2]\n",
      "Number of ones per column: [3 2 2 3 3 2]\n",
      "Global number of ones: 15\n",
      "\n",
      "Global constant:\n",
      "[[1 0 0 0 1 0]\n",
      " [0 0 1 1 0 0]\n",
      " [1 1 0 0 1 1]\n",
      " [0 0 0 1 0 0]\n",
      " [0 0 1 0 0 1]\n",
      " [1 1 0 0 1 1]]\n",
      "Number of ones per row: [2 2 4 1 2 4]\n",
      "Number of ones per column: [3 2 2 2 3 3]\n",
      "Global number of ones: 15\n",
      "\n",
      "70% Sparsity:\n",
      "[[0 0 0 0 0 0]\n",
      " [0 0 1 0 0 0]\n",
      " [1 1 0 0 1 1]\n",
      " [0 0 0 1 0 0]\n",
      " [0 0 1 0 0 0]\n",
      " [1 1 0 0 0 1]]\n",
      "Number of ones per row: [0 1 4 1 1 3]\n",
      "Number of ones per column: [2 2 2 1 1 2]\n",
      "Global number of ones: 10\n",
      "\n"
     ]
    }
   ],
   "source": [
    "def print_ones_count(matrix, label):\n",
    "    print(f\"{label}:\")\n",
    "    print(matrix)\n",
    "    print(f\"Number of ones per row: {np.sum(matrix, axis = 1)}\")\n",
    "    print(f\"Number of ones per column: {np.sum(matrix, axis = 0)}\")\n",
    "    print(f\"Global number of ones: {np.sum(matrix)}\")\n",
    "    print()\n",
    "    \n",
    "# Checking the number of ones in each row, column and globally in the shuffled matrices\n",
    "print_ones_count(original_matrix, \"Original\")\n",
    "print_ones_count(reshuffled_column, \"Column-wise constant\")\n",
    "print_ones_count(reshuffled_row, \"Row-wise constant\")\n",
    "print_ones_count(reshuffled_global, \"Global constant\")\n",
    "print_ones_count(reshuffled_sparsity, \"70% Sparsity\")"
   ]
  }
 ],
 "metadata": {
  "kernelspec": {
   "display_name": "Python 3 (ipykernel)",
   "language": "python",
   "name": "python3"
  },
  "language_info": {
   "codemirror_mode": {
    "name": "ipython",
    "version": 3
   },
   "file_extension": ".py",
   "mimetype": "text/x-python",
   "name": "python",
   "nbconvert_exporter": "python",
   "pygments_lexer": "ipython3",
   "version": "3.10.9"
  }
 },
 "nbformat": 4,
 "nbformat_minor": 5
}
